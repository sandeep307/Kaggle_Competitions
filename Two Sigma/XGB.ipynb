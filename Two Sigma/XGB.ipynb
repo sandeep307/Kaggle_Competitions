{
 "cells": [
  {
   "cell_type": "code",
   "execution_count": 14,
   "metadata": {
    "collapsed": true
   },
   "outputs": [],
   "source": [
    "import warnings\n",
    "warnings.filterwarnings('ignore')"
   ]
  },
  {
   "cell_type": "code",
   "execution_count": 15,
   "metadata": {
    "_cell_guid": "1952347b-6dc9-b9f1-fa25-94587a2aee77"
   },
   "outputs": [],
   "source": [
    "import os\n",
    "import sys\n",
    "import operator\n",
    "import numpy as np\n",
    "import pandas as pd\n",
    "from scipy import sparse\n",
    "import xgboost as xgb\n",
    "from sklearn import model_selection, preprocessing, ensemble\n",
    "from sklearn.metrics import log_loss\n",
    "from sklearn.feature_extraction.text import TfidfVectorizer, CountVectorizer"
   ]
  },
  {
   "cell_type": "code",
   "execution_count": 16,
   "metadata": {
    "_cell_guid": "af6e68af-f7a8-b0ac-c565-1d04818258f9",
    "collapsed": true
   },
   "outputs": [],
   "source": [
    "def runXGB(train_X, train_y, test_X, test_y=None, feature_names=None, seed_val=0, num_rounds=1000):\n",
    "    param = {}\n",
    "    param['objective'] = 'multi:softprob'\n",
    "    param['eta'] = 0.1\n",
    "    param['max_depth'] = 6\n",
    "    param['silent'] = 1\n",
    "    param['num_class'] = 3\n",
    "    param['eval_metric'] = \"mlogloss\"\n",
    "    param['min_child_weight'] = 1\n",
    "    param['subsample'] = 0.8\n",
    "    param['colsample_bytree'] = 0.8\n",
    "    param['seed'] = seed_val\n",
    "    num_rounds = num_rounds\n",
    "\n",
    "    plst = list(param.items())\n",
    "    xgtrain = xgb.DMatrix(train_X, label=train_y)\n",
    "\n",
    "    if test_y is not None:\n",
    "        xgtest = xgb.DMatrix(test_X, label=test_y)\n",
    "        watchlist = [ (xgtrain,'train'), (xgtest, 'test') ]\n",
    "        model = xgb.train(plst, xgtrain, num_rounds, watchlist, early_stopping_rounds=30)\n",
    "    else:\n",
    "        xgtest = xgb.DMatrix(test_X)\n",
    "        model = xgb.train(plst, xgtrain, num_rounds)\n",
    "\n",
    "    pred_test_y = model.predict(xgtest)\n",
    "    return pred_test_y, model"
   ]
  },
  {
   "cell_type": "markdown",
   "metadata": {
    "_cell_guid": "c4a69cea-cb06-5d6a-83b7-16ee8ee241f6"
   },
   "source": [
    "Let us read the train and test files and store it."
   ]
  },
  {
   "cell_type": "code",
   "execution_count": 17,
   "metadata": {
    "_cell_guid": "0108ce34-5e84-7f49-bd6f-6562d60a9082"
   },
   "outputs": [
    {
     "name": "stdout",
     "output_type": "stream",
     "text": [
      "(49352, 15)\n",
      "(74659, 14)\n"
     ]
    }
   ],
   "source": [
    "data_path = \"\"\n",
    "train_file = data_path + \"train.json\"\n",
    "test_file = data_path + \"test.json\"\n",
    "train_df = pd.read_json(train_file)\n",
    "test_df = pd.read_json(test_file)\n",
    "print(train_df.shape)\n",
    "print(test_df.shape)"
   ]
  },
  {
   "cell_type": "markdown",
   "metadata": {
    "_cell_guid": "2bf65ce4-7375-c8e9-97d5-621736f3338d"
   },
   "source": [
    "We do not need any pre-processing for numerical features and so create a list with those features."
   ]
  },
  {
   "cell_type": "code",
   "execution_count": 18,
   "metadata": {
    "_cell_guid": "6462885f-97de-b2d1-2c1a-1958115c4c4d",
    "collapsed": true
   },
   "outputs": [],
   "source": [
    "features_to_use  = [\"bathrooms\", \"bedrooms\", \"latitude\", \"longitude\", \"price\"]"
   ]
  },
  {
   "cell_type": "markdown",
   "metadata": {
    "_cell_guid": "b7670810-6d0b-89d0-629e-f99624421229"
   },
   "source": [
    "Now let us create some new features from the given features."
   ]
  },
  {
   "cell_type": "code",
   "execution_count": 19,
   "metadata": {
    "_cell_guid": "e3b81db5-929d-b8b8-141c-1bbb4a5eaaf3",
    "collapsed": true
   },
   "outputs": [],
   "source": [
    "# count of photos #\n",
    "train_df[\"num_photos\"] = train_df[\"photos\"].apply(len)\n",
    "test_df[\"num_photos\"] = test_df[\"photos\"].apply(len)\n",
    "\n",
    "# count of \"features\" #\n",
    "train_df[\"num_features\"] = train_df[\"features\"].apply(len)\n",
    "test_df[\"num_features\"] = test_df[\"features\"].apply(len)\n",
    "\n",
    "# count of words present in description column #\n",
    "train_df[\"num_description_words\"] = train_df[\"description\"].apply(lambda x: len(x.split(\" \")))\n",
    "test_df[\"num_description_words\"] = test_df[\"description\"].apply(lambda x: len(x.split(\" \")))\n",
    "\n",
    "# convert the created column to datetime object so as to extract more features \n",
    "train_df[\"created\"] = pd.to_datetime(train_df[\"created\"])\n",
    "test_df[\"created\"] = pd.to_datetime(test_df[\"created\"])\n",
    "\n",
    "# Let us extract some features like year, month, day, hour from date columns #\n",
    "train_df[\"created_year\"] = train_df[\"created\"].dt.year\n",
    "test_df[\"created_year\"] = test_df[\"created\"].dt.year\n",
    "train_df[\"created_month\"] = train_df[\"created\"].dt.month\n",
    "test_df[\"created_month\"] = test_df[\"created\"].dt.month\n",
    "train_df[\"created_day\"] = train_df[\"created\"].dt.day\n",
    "test_df[\"created_day\"] = test_df[\"created\"].dt.day\n",
    "train_df[\"created_hour\"] = train_df[\"created\"].dt.hour\n",
    "test_df[\"created_hour\"] = test_df[\"created\"].dt.hour\n",
    "\n",
    "# adding all these new features to use list #\n",
    "features_to_use.extend([\"num_photos\", \"num_features\", \"num_description_words\",\"created_year\", \"created_month\", \"created_day\", \"listing_id\", \"created_hour\"])"
   ]
  },
  {
   "cell_type": "markdown",
   "metadata": {
    "_cell_guid": "3d9aa966-66a2-8ff8-2459-40e0187418a2"
   },
   "source": [
    "We have 4 categorical features in our data\n",
    "\n",
    " - display_address\n",
    " - manager_id\n",
    " - building_id\n",
    " - listing_id\n",
    "\n",
    "So let us label encode these features."
   ]
  },
  {
   "cell_type": "code",
   "execution_count": 20,
   "metadata": {
    "_cell_guid": "af410ae2-6197-adce-ee68-360aa59eff7e",
    "collapsed": true
   },
   "outputs": [],
   "source": [
    "categorical = [\"display_address\", \"manager_id\", \"building_id\", \"street_address\"]\n",
    "for f in categorical:\n",
    "        if train_df[f].dtype=='object':\n",
    "            #print(f)\n",
    "            lbl = preprocessing.LabelEncoder()\n",
    "            lbl.fit(list(train_df[f].values) + list(test_df[f].values))\n",
    "            train_df[f] = lbl.transform(list(train_df[f].values))\n",
    "            test_df[f] = lbl.transform(list(test_df[f].values))\n",
    "            features_to_use.append(f)"
   ]
  },
  {
   "cell_type": "code",
   "execution_count": 21,
   "metadata": {},
   "outputs": [
    {
     "name": "stdout",
     "output_type": "stream",
     "text": [
      "Index(['bathrooms', 'bedrooms', 'building_id', 'created', 'description',\n",
      "       'display_address', 'features', 'interest_level', 'latitude',\n",
      "       'listing_id', 'longitude', 'manager_id', 'photos', 'price',\n",
      "       'street_address', 'num_photos', 'num_features', 'num_description_words',\n",
      "       'created_year', 'created_month', 'created_day', 'created_hour'],\n",
      "      dtype='object')\n",
      "Index(['bathrooms', 'bedrooms', 'building_id', 'created', 'description',\n",
      "       'display_address', 'features', 'latitude', 'listing_id', 'longitude',\n",
      "       'manager_id', 'photos', 'price', 'street_address', 'num_photos',\n",
      "       'num_features', 'num_description_words', 'created_year',\n",
      "       'created_month', 'created_day', 'created_hour'],\n",
      "      dtype='object')\n"
     ]
    }
   ],
   "source": [
    "print (train_df.columns)\n",
    "print (test_df.columns)"
   ]
  },
  {
   "cell_type": "code",
   "execution_count": 22,
   "metadata": {
    "collapsed": true
   },
   "outputs": [],
   "source": [
    "image_date = pd.read_csv(\"listing_image_time.csv\")\n",
    "\n",
    "# rename columns so you can join tables later on\n",
    "image_date.columns = [\"listing_id\", \"time_stamp\"]\n",
    "\n",
    "# reassign the only one timestamp from April, all others from Oct/Nov\n",
    "image_date.loc[80240,\"time_stamp\"] = 1478129766 \n",
    "\n",
    "image_date[\"img_date\"]                  = pd.to_datetime(image_date[\"time_stamp\"], unit=\"s\")\n",
    "image_date[\"img_days_passed\"]           = (image_date[\"img_date\"].max() - image_date[\"img_date\"]).astype(\"timedelta64[D]\").astype(int)\n",
    "image_date[\"img_date_month\"]            = image_date[\"img_date\"].dt.month\n",
    "image_date[\"img_date_week\"]             = image_date[\"img_date\"].dt.week\n",
    "image_date[\"img_date_day\"]              = image_date[\"img_date\"].dt.day\n",
    "image_date[\"img_date_dayofweek\"]        = image_date[\"img_date\"].dt.dayofweek\n",
    "image_date[\"img_date_dayofyear\"]        = image_date[\"img_date\"].dt.dayofyear\n",
    "image_date[\"img_date_hour\"]             = image_date[\"img_date\"].dt.hour\n",
    "image_date[\"img_date_monthBeginMidEnd\"] = image_date[\"img_date_day\"].apply(lambda x: 1 if x<10 else 2 if x<20 else 3)\n",
    "\n",
    "train_df = pd.merge(train_df, image_date, on=\"listing_id\", how=\"left\")\n",
    "test_df = pd.merge(test_df, image_date, on=\"listing_id\", how=\"left\")"
   ]
  },
  {
   "cell_type": "code",
   "execution_count": 23,
   "metadata": {},
   "outputs": [
    {
     "name": "stdout",
     "output_type": "stream",
     "text": [
      "Index(['bathrooms', 'bedrooms', 'building_id', 'created', 'description',\n",
      "       'display_address', 'features', 'interest_level', 'latitude',\n",
      "       'listing_id', 'longitude', 'manager_id', 'photos', 'price',\n",
      "       'street_address', 'num_photos', 'num_features', 'num_description_words',\n",
      "       'created_year', 'created_month', 'created_day', 'created_hour',\n",
      "       'time_stamp', 'img_date', 'img_days_passed', 'img_date_month',\n",
      "       'img_date_week', 'img_date_day', 'img_date_dayofweek',\n",
      "       'img_date_dayofyear', 'img_date_hour', 'img_date_monthBeginMidEnd'],\n",
      "      dtype='object')\n",
      "Index(['bathrooms', 'bedrooms', 'building_id', 'created', 'description',\n",
      "       'display_address', 'features', 'latitude', 'listing_id', 'longitude',\n",
      "       'manager_id', 'photos', 'price', 'street_address', 'num_photos',\n",
      "       'num_features', 'num_description_words', 'created_year',\n",
      "       'created_month', 'created_day', 'created_hour', 'time_stamp',\n",
      "       'img_date', 'img_days_passed', 'img_date_month', 'img_date_week',\n",
      "       'img_date_day', 'img_date_dayofweek', 'img_date_dayofyear',\n",
      "       'img_date_hour', 'img_date_monthBeginMidEnd'],\n",
      "      dtype='object')\n"
     ]
    }
   ],
   "source": [
    "print (train_df.columns)\n",
    "print (test_df.columns)"
   ]
  },
  {
   "cell_type": "code",
   "execution_count": 24,
   "metadata": {},
   "outputs": [],
   "source": [
    "# for f in image_date.columns.tolist()[2:]:\n",
    "#     features_to_use.append(f)\n",
    "# features_to_use"
   ]
  },
  {
   "cell_type": "markdown",
   "metadata": {
    "_cell_guid": "3f550f0f-0c6f-2432-2c07-d507632eaa2b"
   },
   "source": [
    "We have features column which is a list of string values. So we can first combine all the strings together to get a single string and then apply count vectorizer on top of it."
   ]
  },
  {
   "cell_type": "code",
   "execution_count": 25,
   "metadata": {
    "_cell_guid": "d1ea3504-a12c-023a-bce6-d4f93ddb8019"
   },
   "outputs": [
    {
     "name": "stdout",
     "output_type": "stream",
     "text": [
      "0                                                     \n",
      "1    Doorman Elevator Fitness_Center Cats_Allowed D...\n",
      "2    Laundry_In_Building Dishwasher Hardwood_Floors...\n",
      "3                               Hardwood_Floors No_Fee\n",
      "4                                              Pre-War\n",
      "Name: features, dtype: object\n"
     ]
    }
   ],
   "source": [
    "train_df['features'] = train_df[\"features\"].apply(lambda x: \" \".join([\"_\".join(i.split(\" \")) for i in x]))\n",
    "test_df['features'] = test_df[\"features\"].apply(lambda x: \" \".join([\"_\".join(i.split(\" \")) for i in x]))\n",
    "print(train_df[\"features\"].head())\n",
    "tfidf = CountVectorizer(stop_words='english', max_features=200)\n",
    "tr_sparse = tfidf.fit_transform(train_df[\"features\"])\n",
    "te_sparse = tfidf.transform(test_df[\"features\"])"
   ]
  },
  {
   "cell_type": "markdown",
   "metadata": {
    "_cell_guid": "2bfbcacc-e821-654b-f2b3-cda0f1a5a20b"
   },
   "source": [
    "Now let us stack both the dense and sparse features into a single dataset and also get the target variable."
   ]
  },
  {
   "cell_type": "code",
   "execution_count": 26,
   "metadata": {},
   "outputs": [
    {
     "data": {
      "text/plain": [
       "bathrooms                float64\n",
       "bedrooms                   int64\n",
       "latitude                 float64\n",
       "longitude                float64\n",
       "price                      int64\n",
       "num_photos                 int64\n",
       "num_features               int64\n",
       "num_description_words      int64\n",
       "created_year               int64\n",
       "created_month              int64\n",
       "created_day                int64\n",
       "listing_id                 int64\n",
       "created_hour               int64\n",
       "display_address            int64\n",
       "manager_id                 int64\n",
       "building_id                int64\n",
       "street_address             int64\n",
       "dtype: object"
      ]
     },
     "execution_count": 26,
     "metadata": {},
     "output_type": "execute_result"
    }
   ],
   "source": [
    "test_df[features_to_use].dtypes"
   ]
  },
  {
   "cell_type": "code",
   "execution_count": 27,
   "metadata": {
    "_cell_guid": "9eeef912-2104-e97e-1948-c246652340e1"
   },
   "outputs": [
    {
     "name": "stdout",
     "output_type": "stream",
     "text": [
      "(49352, 217) (74659, 217)\n"
     ]
    }
   ],
   "source": [
    "train_X = sparse.hstack([train_df[features_to_use], tr_sparse]).tocsr()\n",
    "test_X = sparse.hstack([test_df[features_to_use], te_sparse]).tocsr()\n",
    "\n",
    "target_num_map = {'high':0, 'medium':1, 'low':2}\n",
    "train_y = np.array(train_df['interest_level'].apply(lambda x: target_num_map[x]))\n",
    "print(train_X.shape, test_X.shape)"
   ]
  },
  {
   "cell_type": "markdown",
   "metadata": {
    "_cell_guid": "7d2e5fb7-7886-68b1-326f-6db491215001"
   },
   "source": [
    "Now let us do some cross validation to check the scores. \n",
    "\n",
    "Please run it in local to get the cv scores. I am commenting it out here for time."
   ]
  },
  {
   "cell_type": "code",
   "execution_count": 28,
   "metadata": {
    "_cell_guid": "13fd60b9-a8b5-c76f-1fbd-2a56219da0d2"
   },
   "outputs": [
    {
     "name": "stdout",
     "output_type": "stream",
     "text": [
      "[0]\ttrain-mlogloss:1.04102\ttest-mlogloss:1.04206\n",
      "Multiple eval metrics have been passed: 'test-mlogloss' will be used for early stopping.\n",
      "\n",
      "Will train until test-mlogloss hasn't improved in 30 rounds.\n",
      "[1]\ttrain-mlogloss:0.98849\ttest-mlogloss:0.990561\n",
      "[2]\ttrain-mlogloss:0.943702\ttest-mlogloss:0.94669\n",
      "[3]\ttrain-mlogloss:0.904819\ttest-mlogloss:0.908604\n",
      "[4]\ttrain-mlogloss:0.870021\ttest-mlogloss:0.874652\n",
      "[5]\ttrain-mlogloss:0.839307\ttest-mlogloss:0.844943\n",
      "[6]\ttrain-mlogloss:0.813479\ttest-mlogloss:0.819983\n",
      "[7]\ttrain-mlogloss:0.790236\ttest-mlogloss:0.797448\n",
      "[8]\ttrain-mlogloss:0.770182\ttest-mlogloss:0.778248\n",
      "[9]\ttrain-mlogloss:0.751936\ttest-mlogloss:0.760885\n",
      "[10]\ttrain-mlogloss:0.7354\ttest-mlogloss:0.745048\n",
      "[11]\ttrain-mlogloss:0.722037\ttest-mlogloss:0.732237\n",
      "[12]\ttrain-mlogloss:0.708419\ttest-mlogloss:0.719473\n",
      "[13]\ttrain-mlogloss:0.697253\ttest-mlogloss:0.70915\n",
      "[14]\ttrain-mlogloss:0.686692\ttest-mlogloss:0.699255\n",
      "[15]\ttrain-mlogloss:0.676662\ttest-mlogloss:0.690078\n",
      "[16]\ttrain-mlogloss:0.667788\ttest-mlogloss:0.681943\n",
      "[17]\ttrain-mlogloss:0.660089\ttest-mlogloss:0.675152\n",
      "[18]\ttrain-mlogloss:0.652873\ttest-mlogloss:0.668544\n",
      "[19]\ttrain-mlogloss:0.646588\ttest-mlogloss:0.663014\n",
      "[20]\ttrain-mlogloss:0.64106\ttest-mlogloss:0.658076\n",
      "[21]\ttrain-mlogloss:0.635946\ttest-mlogloss:0.653812\n",
      "[22]\ttrain-mlogloss:0.630817\ttest-mlogloss:0.649373\n",
      "[23]\ttrain-mlogloss:0.626347\ttest-mlogloss:0.645573\n",
      "[24]\ttrain-mlogloss:0.621456\ttest-mlogloss:0.641492\n",
      "[25]\ttrain-mlogloss:0.616996\ttest-mlogloss:0.637739\n",
      "[26]\ttrain-mlogloss:0.613146\ttest-mlogloss:0.634838\n",
      "[27]\ttrain-mlogloss:0.609653\ttest-mlogloss:0.632095\n",
      "[28]\ttrain-mlogloss:0.605533\ttest-mlogloss:0.628772\n",
      "[29]\ttrain-mlogloss:0.601556\ttest-mlogloss:0.62571\n",
      "[30]\ttrain-mlogloss:0.598781\ttest-mlogloss:0.623592\n",
      "[31]\ttrain-mlogloss:0.595249\ttest-mlogloss:0.620673\n",
      "[32]\ttrain-mlogloss:0.592484\ttest-mlogloss:0.618867\n",
      "[33]\ttrain-mlogloss:0.589716\ttest-mlogloss:0.616738\n",
      "[34]\ttrain-mlogloss:0.586784\ttest-mlogloss:0.614488\n",
      "[35]\ttrain-mlogloss:0.584216\ttest-mlogloss:0.61265\n",
      "[36]\ttrain-mlogloss:0.581429\ttest-mlogloss:0.610618\n",
      "[37]\ttrain-mlogloss:0.579099\ttest-mlogloss:0.609254\n",
      "[38]\ttrain-mlogloss:0.576987\ttest-mlogloss:0.607775\n",
      "[39]\ttrain-mlogloss:0.574351\ttest-mlogloss:0.606049\n",
      "[40]\ttrain-mlogloss:0.572085\ttest-mlogloss:0.604474\n",
      "[41]\ttrain-mlogloss:0.570369\ttest-mlogloss:0.603122\n",
      "[42]\ttrain-mlogloss:0.567854\ttest-mlogloss:0.601376\n",
      "[43]\ttrain-mlogloss:0.565975\ttest-mlogloss:0.600127\n",
      "[44]\ttrain-mlogloss:0.563441\ttest-mlogloss:0.598548\n",
      "[45]\ttrain-mlogloss:0.562113\ttest-mlogloss:0.597627\n",
      "[46]\ttrain-mlogloss:0.560139\ttest-mlogloss:0.596519\n",
      "[47]\ttrain-mlogloss:0.558294\ttest-mlogloss:0.595349\n",
      "[48]\ttrain-mlogloss:0.556373\ttest-mlogloss:0.594159\n",
      "[49]\ttrain-mlogloss:0.55489\ttest-mlogloss:0.593334\n",
      "[50]\ttrain-mlogloss:0.552984\ttest-mlogloss:0.592313\n",
      "[51]\ttrain-mlogloss:0.551425\ttest-mlogloss:0.591509\n",
      "[52]\ttrain-mlogloss:0.549244\ttest-mlogloss:0.590345\n",
      "[53]\ttrain-mlogloss:0.547591\ttest-mlogloss:0.589598\n",
      "[54]\ttrain-mlogloss:0.545501\ttest-mlogloss:0.588402\n",
      "[55]\ttrain-mlogloss:0.544191\ttest-mlogloss:0.587471\n",
      "[56]\ttrain-mlogloss:0.542246\ttest-mlogloss:0.58626\n",
      "[57]\ttrain-mlogloss:0.541169\ttest-mlogloss:0.585555\n",
      "[58]\ttrain-mlogloss:0.539686\ttest-mlogloss:0.584746\n",
      "[59]\ttrain-mlogloss:0.538792\ttest-mlogloss:0.584377\n",
      "[60]\ttrain-mlogloss:0.537006\ttest-mlogloss:0.583471\n",
      "[61]\ttrain-mlogloss:0.53603\ttest-mlogloss:0.58299\n",
      "[62]\ttrain-mlogloss:0.53487\ttest-mlogloss:0.582539\n",
      "[63]\ttrain-mlogloss:0.533468\ttest-mlogloss:0.581685\n",
      "[64]\ttrain-mlogloss:0.532351\ttest-mlogloss:0.581174\n",
      "[65]\ttrain-mlogloss:0.531036\ttest-mlogloss:0.580504\n",
      "[66]\ttrain-mlogloss:0.529485\ttest-mlogloss:0.579757\n",
      "[67]\ttrain-mlogloss:0.527871\ttest-mlogloss:0.57898\n",
      "[68]\ttrain-mlogloss:0.526622\ttest-mlogloss:0.578621\n",
      "[69]\ttrain-mlogloss:0.525641\ttest-mlogloss:0.57841\n",
      "[70]\ttrain-mlogloss:0.524317\ttest-mlogloss:0.577829\n",
      "[71]\ttrain-mlogloss:0.522855\ttest-mlogloss:0.577202\n",
      "[72]\ttrain-mlogloss:0.521708\ttest-mlogloss:0.576697\n",
      "[73]\ttrain-mlogloss:0.520611\ttest-mlogloss:0.576338\n",
      "[74]\ttrain-mlogloss:0.519125\ttest-mlogloss:0.575853\n",
      "[75]\ttrain-mlogloss:0.518155\ttest-mlogloss:0.575479\n",
      "[76]\ttrain-mlogloss:0.517009\ttest-mlogloss:0.575073\n",
      "[77]\ttrain-mlogloss:0.515928\ttest-mlogloss:0.574663\n",
      "[78]\ttrain-mlogloss:0.514804\ttest-mlogloss:0.574167\n",
      "[79]\ttrain-mlogloss:0.513546\ttest-mlogloss:0.573739\n",
      "[80]\ttrain-mlogloss:0.51253\ttest-mlogloss:0.573416\n",
      "[81]\ttrain-mlogloss:0.511649\ttest-mlogloss:0.573136\n",
      "[82]\ttrain-mlogloss:0.510462\ttest-mlogloss:0.572697\n",
      "[83]\ttrain-mlogloss:0.509479\ttest-mlogloss:0.572339\n",
      "[84]\ttrain-mlogloss:0.508684\ttest-mlogloss:0.572042\n",
      "[85]\ttrain-mlogloss:0.507558\ttest-mlogloss:0.571548\n",
      "[86]\ttrain-mlogloss:0.506373\ttest-mlogloss:0.571182\n",
      "[87]\ttrain-mlogloss:0.505112\ttest-mlogloss:0.570838\n",
      "[88]\ttrain-mlogloss:0.504138\ttest-mlogloss:0.570552\n",
      "[89]\ttrain-mlogloss:0.503101\ttest-mlogloss:0.570245\n",
      "[90]\ttrain-mlogloss:0.50236\ttest-mlogloss:0.569931\n",
      "[91]\ttrain-mlogloss:0.501449\ttest-mlogloss:0.569585\n",
      "[92]\ttrain-mlogloss:0.500451\ttest-mlogloss:0.569356\n",
      "[93]\ttrain-mlogloss:0.499567\ttest-mlogloss:0.569014\n",
      "[94]\ttrain-mlogloss:0.498278\ttest-mlogloss:0.568622\n",
      "[95]\ttrain-mlogloss:0.497376\ttest-mlogloss:0.568351\n",
      "[96]\ttrain-mlogloss:0.496593\ttest-mlogloss:0.568107\n",
      "[97]\ttrain-mlogloss:0.495714\ttest-mlogloss:0.5677\n",
      "[98]\ttrain-mlogloss:0.494878\ttest-mlogloss:0.567379\n",
      "[99]\ttrain-mlogloss:0.494244\ttest-mlogloss:0.567265\n",
      "[100]\ttrain-mlogloss:0.493738\ttest-mlogloss:0.567115\n",
      "[101]\ttrain-mlogloss:0.492831\ttest-mlogloss:0.566811\n",
      "[102]\ttrain-mlogloss:0.4919\ttest-mlogloss:0.566585\n",
      "[103]\ttrain-mlogloss:0.491153\ttest-mlogloss:0.566438\n",
      "[104]\ttrain-mlogloss:0.490099\ttest-mlogloss:0.565941\n",
      "[105]\ttrain-mlogloss:0.489302\ttest-mlogloss:0.565737\n",
      "[106]\ttrain-mlogloss:0.488773\ttest-mlogloss:0.565526\n",
      "[107]\ttrain-mlogloss:0.487444\ttest-mlogloss:0.565103\n",
      "[108]\ttrain-mlogloss:0.486667\ttest-mlogloss:0.564886\n",
      "[109]\ttrain-mlogloss:0.485576\ttest-mlogloss:0.5646\n",
      "[110]\ttrain-mlogloss:0.484877\ttest-mlogloss:0.564306\n",
      "[111]\ttrain-mlogloss:0.484071\ttest-mlogloss:0.564123\n",
      "[112]\ttrain-mlogloss:0.483324\ttest-mlogloss:0.563976\n",
      "[113]\ttrain-mlogloss:0.482857\ttest-mlogloss:0.563878\n",
      "[114]\ttrain-mlogloss:0.482227\ttest-mlogloss:0.563601\n",
      "[115]\ttrain-mlogloss:0.481293\ttest-mlogloss:0.563381\n",
      "[116]\ttrain-mlogloss:0.48032\ttest-mlogloss:0.563139\n",
      "[117]\ttrain-mlogloss:0.479548\ttest-mlogloss:0.562889\n",
      "[118]\ttrain-mlogloss:0.478832\ttest-mlogloss:0.562649\n",
      "[119]\ttrain-mlogloss:0.477932\ttest-mlogloss:0.562412\n",
      "[120]\ttrain-mlogloss:0.47726\ttest-mlogloss:0.562224\n",
      "[121]\ttrain-mlogloss:0.476259\ttest-mlogloss:0.561957\n",
      "[122]\ttrain-mlogloss:0.475419\ttest-mlogloss:0.561823\n",
      "[123]\ttrain-mlogloss:0.474324\ttest-mlogloss:0.561497\n",
      "[124]\ttrain-mlogloss:0.473604\ttest-mlogloss:0.561102\n",
      "[125]\ttrain-mlogloss:0.472771\ttest-mlogloss:0.561005\n",
      "[126]\ttrain-mlogloss:0.472063\ttest-mlogloss:0.560878\n",
      "[127]\ttrain-mlogloss:0.471356\ttest-mlogloss:0.560668\n",
      "[128]\ttrain-mlogloss:0.470412\ttest-mlogloss:0.560457\n",
      "[129]\ttrain-mlogloss:0.469395\ttest-mlogloss:0.560171\n",
      "[130]\ttrain-mlogloss:0.468412\ttest-mlogloss:0.560081\n",
      "[131]\ttrain-mlogloss:0.467867\ttest-mlogloss:0.559932\n",
      "[132]\ttrain-mlogloss:0.466987\ttest-mlogloss:0.559658\n",
      "[133]\ttrain-mlogloss:0.466376\ttest-mlogloss:0.559427\n",
      "[134]\ttrain-mlogloss:0.465674\ttest-mlogloss:0.559273\n",
      "[135]\ttrain-mlogloss:0.464869\ttest-mlogloss:0.558966\n",
      "[136]\ttrain-mlogloss:0.464216\ttest-mlogloss:0.558801\n",
      "[137]\ttrain-mlogloss:0.463545\ttest-mlogloss:0.558545\n",
      "[138]\ttrain-mlogloss:0.462815\ttest-mlogloss:0.558393\n",
      "[139]\ttrain-mlogloss:0.462011\ttest-mlogloss:0.558259\n",
      "[140]\ttrain-mlogloss:0.461315\ttest-mlogloss:0.558037\n",
      "[141]\ttrain-mlogloss:0.460549\ttest-mlogloss:0.557876\n",
      "[142]\ttrain-mlogloss:0.459679\ttest-mlogloss:0.557768\n",
      "[143]\ttrain-mlogloss:0.459016\ttest-mlogloss:0.557565\n",
      "[144]\ttrain-mlogloss:0.458504\ttest-mlogloss:0.557455\n",
      "[145]\ttrain-mlogloss:0.457812\ttest-mlogloss:0.557292\n",
      "[146]\ttrain-mlogloss:0.456873\ttest-mlogloss:0.557179\n",
      "[147]\ttrain-mlogloss:0.456055\ttest-mlogloss:0.556956\n",
      "[148]\ttrain-mlogloss:0.455176\ttest-mlogloss:0.556827\n",
      "[149]\ttrain-mlogloss:0.454447\ttest-mlogloss:0.556731\n",
      "[150]\ttrain-mlogloss:0.453792\ttest-mlogloss:0.556611\n",
      "[151]\ttrain-mlogloss:0.453342\ttest-mlogloss:0.556504\n",
      "[152]\ttrain-mlogloss:0.452715\ttest-mlogloss:0.556385\n",
      "[153]\ttrain-mlogloss:0.451895\ttest-mlogloss:0.556153\n",
      "[154]\ttrain-mlogloss:0.451176\ttest-mlogloss:0.55589\n"
     ]
    },
    {
     "name": "stdout",
     "output_type": "stream",
     "text": [
      "[155]\ttrain-mlogloss:0.450641\ttest-mlogloss:0.555883\n",
      "[156]\ttrain-mlogloss:0.450034\ttest-mlogloss:0.555679\n",
      "[157]\ttrain-mlogloss:0.449586\ttest-mlogloss:0.555602\n",
      "[158]\ttrain-mlogloss:0.448978\ttest-mlogloss:0.555536\n",
      "[159]\ttrain-mlogloss:0.448257\ttest-mlogloss:0.555338\n",
      "[160]\ttrain-mlogloss:0.447706\ttest-mlogloss:0.555221\n",
      "[161]\ttrain-mlogloss:0.446962\ttest-mlogloss:0.555187\n",
      "[162]\ttrain-mlogloss:0.446253\ttest-mlogloss:0.555089\n",
      "[163]\ttrain-mlogloss:0.445537\ttest-mlogloss:0.554996\n",
      "[164]\ttrain-mlogloss:0.444998\ttest-mlogloss:0.554969\n",
      "[165]\ttrain-mlogloss:0.444134\ttest-mlogloss:0.554862\n",
      "[166]\ttrain-mlogloss:0.443509\ttest-mlogloss:0.554728\n",
      "[167]\ttrain-mlogloss:0.442758\ttest-mlogloss:0.55467\n",
      "[168]\ttrain-mlogloss:0.442086\ttest-mlogloss:0.554563\n",
      "[169]\ttrain-mlogloss:0.441512\ttest-mlogloss:0.554377\n",
      "[170]\ttrain-mlogloss:0.44108\ttest-mlogloss:0.554378\n",
      "[171]\ttrain-mlogloss:0.440594\ttest-mlogloss:0.554207\n",
      "[172]\ttrain-mlogloss:0.439963\ttest-mlogloss:0.553982\n",
      "[173]\ttrain-mlogloss:0.439448\ttest-mlogloss:0.553923\n",
      "[174]\ttrain-mlogloss:0.43877\ttest-mlogloss:0.553802\n",
      "[175]\ttrain-mlogloss:0.438229\ttest-mlogloss:0.553763\n",
      "[176]\ttrain-mlogloss:0.437819\ttest-mlogloss:0.553725\n",
      "[177]\ttrain-mlogloss:0.437226\ttest-mlogloss:0.553593\n",
      "[178]\ttrain-mlogloss:0.436766\ttest-mlogloss:0.553489\n",
      "[179]\ttrain-mlogloss:0.436364\ttest-mlogloss:0.553381\n",
      "[180]\ttrain-mlogloss:0.435711\ttest-mlogloss:0.553289\n",
      "[181]\ttrain-mlogloss:0.435353\ttest-mlogloss:0.553269\n",
      "[182]\ttrain-mlogloss:0.434667\ttest-mlogloss:0.553222\n",
      "[183]\ttrain-mlogloss:0.433982\ttest-mlogloss:0.552984\n",
      "[184]\ttrain-mlogloss:0.433567\ttest-mlogloss:0.552825\n",
      "[185]\ttrain-mlogloss:0.433138\ttest-mlogloss:0.552737\n",
      "[186]\ttrain-mlogloss:0.432531\ttest-mlogloss:0.552524\n",
      "[187]\ttrain-mlogloss:0.431919\ttest-mlogloss:0.552475\n",
      "[188]\ttrain-mlogloss:0.431176\ttest-mlogloss:0.552422\n",
      "[189]\ttrain-mlogloss:0.430413\ttest-mlogloss:0.552421\n",
      "[190]\ttrain-mlogloss:0.42978\ttest-mlogloss:0.552226\n",
      "[191]\ttrain-mlogloss:0.429337\ttest-mlogloss:0.552144\n",
      "[192]\ttrain-mlogloss:0.428839\ttest-mlogloss:0.552086\n",
      "[193]\ttrain-mlogloss:0.428129\ttest-mlogloss:0.551937\n",
      "[194]\ttrain-mlogloss:0.427479\ttest-mlogloss:0.551904\n",
      "[195]\ttrain-mlogloss:0.426813\ttest-mlogloss:0.551867\n",
      "[196]\ttrain-mlogloss:0.426059\ttest-mlogloss:0.551903\n",
      "[197]\ttrain-mlogloss:0.425382\ttest-mlogloss:0.551743\n",
      "[198]\ttrain-mlogloss:0.42461\ttest-mlogloss:0.551625\n",
      "[199]\ttrain-mlogloss:0.423904\ttest-mlogloss:0.551399\n",
      "[200]\ttrain-mlogloss:0.42353\ttest-mlogloss:0.551386\n",
      "[201]\ttrain-mlogloss:0.422834\ttest-mlogloss:0.55121\n",
      "[202]\ttrain-mlogloss:0.422346\ttest-mlogloss:0.55122\n",
      "[203]\ttrain-mlogloss:0.421616\ttest-mlogloss:0.55125\n",
      "[204]\ttrain-mlogloss:0.420959\ttest-mlogloss:0.551198\n",
      "[205]\ttrain-mlogloss:0.420435\ttest-mlogloss:0.551194\n",
      "[206]\ttrain-mlogloss:0.419984\ttest-mlogloss:0.55129\n",
      "[207]\ttrain-mlogloss:0.419469\ttest-mlogloss:0.551219\n",
      "[208]\ttrain-mlogloss:0.419024\ttest-mlogloss:0.551235\n",
      "[209]\ttrain-mlogloss:0.418361\ttest-mlogloss:0.551163\n",
      "[210]\ttrain-mlogloss:0.417855\ttest-mlogloss:0.551177\n",
      "[211]\ttrain-mlogloss:0.417112\ttest-mlogloss:0.550985\n",
      "[212]\ttrain-mlogloss:0.416639\ttest-mlogloss:0.550839\n",
      "[213]\ttrain-mlogloss:0.416192\ttest-mlogloss:0.550793\n",
      "[214]\ttrain-mlogloss:0.415626\ttest-mlogloss:0.550714\n",
      "[215]\ttrain-mlogloss:0.415003\ttest-mlogloss:0.55071\n",
      "[216]\ttrain-mlogloss:0.414303\ttest-mlogloss:0.550665\n",
      "[217]\ttrain-mlogloss:0.413914\ttest-mlogloss:0.550609\n",
      "[218]\ttrain-mlogloss:0.413498\ttest-mlogloss:0.550536\n",
      "[219]\ttrain-mlogloss:0.413092\ttest-mlogloss:0.550449\n",
      "[220]\ttrain-mlogloss:0.41274\ttest-mlogloss:0.550393\n",
      "[221]\ttrain-mlogloss:0.412082\ttest-mlogloss:0.550346\n",
      "[222]\ttrain-mlogloss:0.411612\ttest-mlogloss:0.550359\n",
      "[223]\ttrain-mlogloss:0.410968\ttest-mlogloss:0.550167\n",
      "[224]\ttrain-mlogloss:0.410456\ttest-mlogloss:0.550147\n",
      "[225]\ttrain-mlogloss:0.40987\ttest-mlogloss:0.550146\n",
      "[226]\ttrain-mlogloss:0.409157\ttest-mlogloss:0.550048\n",
      "[227]\ttrain-mlogloss:0.408757\ttest-mlogloss:0.550086\n",
      "[228]\ttrain-mlogloss:0.408299\ttest-mlogloss:0.549969\n",
      "[229]\ttrain-mlogloss:0.407878\ttest-mlogloss:0.549955\n",
      "[230]\ttrain-mlogloss:0.407431\ttest-mlogloss:0.550058\n",
      "[231]\ttrain-mlogloss:0.407027\ttest-mlogloss:0.55008\n",
      "[232]\ttrain-mlogloss:0.406483\ttest-mlogloss:0.550112\n",
      "[233]\ttrain-mlogloss:0.405879\ttest-mlogloss:0.550076\n",
      "[234]\ttrain-mlogloss:0.405157\ttest-mlogloss:0.549997\n",
      "[235]\ttrain-mlogloss:0.404587\ttest-mlogloss:0.549871\n",
      "[236]\ttrain-mlogloss:0.404123\ttest-mlogloss:0.549874\n",
      "[237]\ttrain-mlogloss:0.403556\ttest-mlogloss:0.549836\n",
      "[238]\ttrain-mlogloss:0.403039\ttest-mlogloss:0.549938\n",
      "[239]\ttrain-mlogloss:0.402515\ttest-mlogloss:0.549908\n",
      "[240]\ttrain-mlogloss:0.401915\ttest-mlogloss:0.549811\n",
      "[241]\ttrain-mlogloss:0.401397\ttest-mlogloss:0.549797\n",
      "[242]\ttrain-mlogloss:0.400977\ttest-mlogloss:0.54982\n",
      "[243]\ttrain-mlogloss:0.400629\ttest-mlogloss:0.549718\n",
      "[244]\ttrain-mlogloss:0.400391\ttest-mlogloss:0.549715\n",
      "[245]\ttrain-mlogloss:0.399952\ttest-mlogloss:0.549756\n",
      "[246]\ttrain-mlogloss:0.399483\ttest-mlogloss:0.549698\n",
      "[247]\ttrain-mlogloss:0.398842\ttest-mlogloss:0.549631\n",
      "[248]\ttrain-mlogloss:0.398264\ttest-mlogloss:0.549643\n",
      "[249]\ttrain-mlogloss:0.397878\ttest-mlogloss:0.549631\n",
      "[250]\ttrain-mlogloss:0.397283\ttest-mlogloss:0.549643\n",
      "[251]\ttrain-mlogloss:0.396756\ttest-mlogloss:0.54958\n",
      "[252]\ttrain-mlogloss:0.396373\ttest-mlogloss:0.54964\n",
      "[253]\ttrain-mlogloss:0.395842\ttest-mlogloss:0.549567\n",
      "[254]\ttrain-mlogloss:0.395325\ttest-mlogloss:0.549443\n",
      "[255]\ttrain-mlogloss:0.39474\ttest-mlogloss:0.549427\n",
      "[256]\ttrain-mlogloss:0.394362\ttest-mlogloss:0.549447\n",
      "[257]\ttrain-mlogloss:0.39402\ttest-mlogloss:0.549338\n",
      "[258]\ttrain-mlogloss:0.393515\ttest-mlogloss:0.549241\n",
      "[259]\ttrain-mlogloss:0.393035\ttest-mlogloss:0.549244\n",
      "[260]\ttrain-mlogloss:0.392653\ttest-mlogloss:0.549304\n",
      "[261]\ttrain-mlogloss:0.392081\ttest-mlogloss:0.549125\n",
      "[262]\ttrain-mlogloss:0.391423\ttest-mlogloss:0.549165\n",
      "[263]\ttrain-mlogloss:0.39067\ttest-mlogloss:0.549065\n",
      "[264]\ttrain-mlogloss:0.390311\ttest-mlogloss:0.549078\n",
      "[265]\ttrain-mlogloss:0.389845\ttest-mlogloss:0.549031\n",
      "[266]\ttrain-mlogloss:0.389419\ttest-mlogloss:0.548986\n",
      "[267]\ttrain-mlogloss:0.389013\ttest-mlogloss:0.548894\n",
      "[268]\ttrain-mlogloss:0.388616\ttest-mlogloss:0.548881\n",
      "[269]\ttrain-mlogloss:0.388193\ttest-mlogloss:0.548846\n",
      "[270]\ttrain-mlogloss:0.387775\ttest-mlogloss:0.548754\n",
      "[271]\ttrain-mlogloss:0.387264\ttest-mlogloss:0.548831\n",
      "[272]\ttrain-mlogloss:0.386874\ttest-mlogloss:0.548857\n",
      "[273]\ttrain-mlogloss:0.38649\ttest-mlogloss:0.548884\n",
      "[274]\ttrain-mlogloss:0.386172\ttest-mlogloss:0.54885\n",
      "[275]\ttrain-mlogloss:0.385812\ttest-mlogloss:0.548944\n",
      "[276]\ttrain-mlogloss:0.385061\ttest-mlogloss:0.548942\n",
      "[277]\ttrain-mlogloss:0.384709\ttest-mlogloss:0.548893\n",
      "[278]\ttrain-mlogloss:0.384178\ttest-mlogloss:0.548929\n",
      "[279]\ttrain-mlogloss:0.383839\ttest-mlogloss:0.54895\n",
      "[280]\ttrain-mlogloss:0.383444\ttest-mlogloss:0.54891\n",
      "[281]\ttrain-mlogloss:0.382805\ttest-mlogloss:0.548787\n",
      "[282]\ttrain-mlogloss:0.382312\ttest-mlogloss:0.548702\n",
      "[283]\ttrain-mlogloss:0.381962\ttest-mlogloss:0.54864\n",
      "[284]\ttrain-mlogloss:0.381693\ttest-mlogloss:0.548622\n",
      "[285]\ttrain-mlogloss:0.381234\ttest-mlogloss:0.548648\n",
      "[286]\ttrain-mlogloss:0.380786\ttest-mlogloss:0.548692\n",
      "[287]\ttrain-mlogloss:0.380292\ttest-mlogloss:0.548642\n",
      "[288]\ttrain-mlogloss:0.379912\ttest-mlogloss:0.548689\n",
      "[289]\ttrain-mlogloss:0.379449\ttest-mlogloss:0.548692\n",
      "[290]\ttrain-mlogloss:0.379105\ttest-mlogloss:0.548624\n",
      "[291]\ttrain-mlogloss:0.378653\ttest-mlogloss:0.548647\n",
      "[292]\ttrain-mlogloss:0.378243\ttest-mlogloss:0.548616\n",
      "[293]\ttrain-mlogloss:0.377822\ttest-mlogloss:0.548713\n",
      "[294]\ttrain-mlogloss:0.377492\ttest-mlogloss:0.548823\n",
      "[295]\ttrain-mlogloss:0.377009\ttest-mlogloss:0.548764\n",
      "[296]\ttrain-mlogloss:0.376732\ttest-mlogloss:0.548753\n",
      "[297]\ttrain-mlogloss:0.376462\ttest-mlogloss:0.548808\n",
      "[298]\ttrain-mlogloss:0.376094\ttest-mlogloss:0.54882\n",
      "[299]\ttrain-mlogloss:0.375643\ttest-mlogloss:0.54882\n",
      "[300]\ttrain-mlogloss:0.375258\ttest-mlogloss:0.548785\n",
      "[301]\ttrain-mlogloss:0.374756\ttest-mlogloss:0.548844\n",
      "[302]\ttrain-mlogloss:0.374235\ttest-mlogloss:0.548759\n",
      "[303]\ttrain-mlogloss:0.373591\ttest-mlogloss:0.548785\n",
      "[304]\ttrain-mlogloss:0.373019\ttest-mlogloss:0.548688\n",
      "[305]\ttrain-mlogloss:0.372524\ttest-mlogloss:0.548759\n",
      "[306]\ttrain-mlogloss:0.372222\ttest-mlogloss:0.548701\n",
      "[307]\ttrain-mlogloss:0.371842\ttest-mlogloss:0.548687\n",
      "[308]\ttrain-mlogloss:0.371353\ttest-mlogloss:0.548627\n",
      "[309]\ttrain-mlogloss:0.370922\ttest-mlogloss:0.548655\n",
      "[310]\ttrain-mlogloss:0.370284\ttest-mlogloss:0.548488\n"
     ]
    },
    {
     "name": "stdout",
     "output_type": "stream",
     "text": [
      "[311]\ttrain-mlogloss:0.36978\ttest-mlogloss:0.54852\n",
      "[312]\ttrain-mlogloss:0.369256\ttest-mlogloss:0.548568\n",
      "[313]\ttrain-mlogloss:0.368811\ttest-mlogloss:0.548615\n",
      "[314]\ttrain-mlogloss:0.368329\ttest-mlogloss:0.548648\n",
      "[315]\ttrain-mlogloss:0.368023\ttest-mlogloss:0.54864\n",
      "[316]\ttrain-mlogloss:0.367469\ttest-mlogloss:0.548639\n",
      "[317]\ttrain-mlogloss:0.366897\ttest-mlogloss:0.548632\n",
      "[318]\ttrain-mlogloss:0.366648\ttest-mlogloss:0.54866\n",
      "[319]\ttrain-mlogloss:0.366329\ttest-mlogloss:0.548652\n",
      "[320]\ttrain-mlogloss:0.365928\ttest-mlogloss:0.548758\n",
      "[321]\ttrain-mlogloss:0.36534\ttest-mlogloss:0.548657\n",
      "[322]\ttrain-mlogloss:0.364877\ttest-mlogloss:0.548706\n",
      "[323]\ttrain-mlogloss:0.36455\ttest-mlogloss:0.548812\n",
      "[324]\ttrain-mlogloss:0.36411\ttest-mlogloss:0.548762\n",
      "[325]\ttrain-mlogloss:0.363691\ttest-mlogloss:0.548728\n",
      "[326]\ttrain-mlogloss:0.363181\ttest-mlogloss:0.548649\n",
      "[327]\ttrain-mlogloss:0.36287\ttest-mlogloss:0.548637\n",
      "[328]\ttrain-mlogloss:0.362528\ttest-mlogloss:0.548697\n",
      "[329]\ttrain-mlogloss:0.362216\ttest-mlogloss:0.548751\n",
      "[330]\ttrain-mlogloss:0.361903\ttest-mlogloss:0.548779\n",
      "[331]\ttrain-mlogloss:0.361573\ttest-mlogloss:0.548802\n",
      "[332]\ttrain-mlogloss:0.361065\ttest-mlogloss:0.548744\n",
      "[333]\ttrain-mlogloss:0.360723\ttest-mlogloss:0.54879\n",
      "[334]\ttrain-mlogloss:0.360399\ttest-mlogloss:0.548771\n",
      "[335]\ttrain-mlogloss:0.359917\ttest-mlogloss:0.548747\n",
      "[336]\ttrain-mlogloss:0.359399\ttest-mlogloss:0.548694\n",
      "[337]\ttrain-mlogloss:0.359145\ttest-mlogloss:0.548773\n",
      "[338]\ttrain-mlogloss:0.358841\ttest-mlogloss:0.54868\n",
      "[339]\ttrain-mlogloss:0.358593\ttest-mlogloss:0.548627\n",
      "[340]\ttrain-mlogloss:0.358139\ttest-mlogloss:0.548547\n",
      "Stopping. Best iteration:\n",
      "[310]\ttrain-mlogloss:0.370284\ttest-mlogloss:0.548488\n",
      "\n",
      "[0.54854696869233099]\n"
     ]
    }
   ],
   "source": [
    "cv_scores = []\n",
    "kf = model_selection.KFold(n_splits=5, shuffle=True, random_state=2016)\n",
    "for dev_index, val_index in kf.split(range(train_X.shape[0])):\n",
    "        dev_X, val_X = train_X[dev_index,:], train_X[val_index,:]\n",
    "        dev_y, val_y = train_y[dev_index], train_y[val_index]\n",
    "        preds, model = runXGB(dev_X, dev_y, val_X, val_y)\n",
    "        cv_scores.append(log_loss(val_y, preds))\n",
    "        print(cv_scores)\n",
    "        break"
   ]
  },
  {
   "cell_type": "markdown",
   "metadata": {
    "_cell_guid": "5cff686f-2601-321d-8f81-5fa846ef7562"
   },
   "source": [
    "Now let us build the final model and get the predictions on the test set."
   ]
  },
  {
   "cell_type": "code",
   "execution_count": 29,
   "metadata": {
    "_cell_guid": "4fb1954d-e3f0-9369-d50c-bd1b615c0077",
    "collapsed": true
   },
   "outputs": [],
   "source": [
    "preds, model = runXGB(train_X, train_y, test_X, num_rounds=400)\n",
    "out_df = pd.DataFrame(preds)\n",
    "out_df.columns = [\"high\", \"medium\", \"low\"]\n",
    "out_df[\"listing_id\"] = test_df.listing_id.values\n",
    "out_df.to_csv(\"xgb.csv\", index=False)"
   ]
  },
  {
   "cell_type": "markdown",
   "metadata": {
    "_cell_guid": "b23cc080-cd12-dc7d-0877-66806a34bf4c"
   },
   "source": [
    "\n",
    "Hope this helps the python users as a good starting point."
   ]
  }
 ],
 "metadata": {
  "_change_revision": 488,
  "_is_fork": false,
  "anaconda-cloud": {},
  "kernelspec": {
   "display_name": "Python [default]",
   "language": "python",
   "name": "python3"
  },
  "language_info": {
   "codemirror_mode": {
    "name": "ipython",
    "version": 3
   },
   "file_extension": ".py",
   "mimetype": "text/x-python",
   "name": "python",
   "nbconvert_exporter": "python",
   "pygments_lexer": "ipython3",
   "version": "3.5.3"
  }
 },
 "nbformat": 4,
 "nbformat_minor": 1
}
