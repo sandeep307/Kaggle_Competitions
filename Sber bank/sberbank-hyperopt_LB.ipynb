{
 "cells": [
  {
   "cell_type": "code",
   "execution_count": 11,
   "metadata": {
    "collapsed": true
   },
   "outputs": [],
   "source": [
    "import warnings\n",
    "warnings.filterwarnings('ignore')"
   ]
  },
  {
   "cell_type": "code",
   "execution_count": 12,
   "metadata": {},
   "outputs": [],
   "source": [
    "from sklearn.cross_validation import train_test_split\n",
    "from sklearn.metrics import log_loss\n",
    "from sklearn import preprocessing\n",
    "import matplotlib.pyplot as plt\n",
    "%matplotlib inline\n",
    "import numpy as np\n",
    "import pandas as pd\n",
    "import math\n",
    "\n",
    "from hyperopt import hp\n",
    "from hyperopt import fmin, tpe, hp, STATUS_OK, Trials\n",
    "import sys\n",
    "import xgboost as xgb\n",
    "import datetime\n",
    "import time\n",
    "import operator"
   ]
  },
  {
   "cell_type": "code",
   "execution_count": 13,
   "metadata": {
    "collapsed": true
   },
   "outputs": [],
   "source": [
    "train = pd.read_csv('train.csv', parse_dates=['timestamp'])\n",
    "test = pd.read_csv('test.csv', parse_dates=['timestamp'])\n",
    "# macro = pd.read_csv('macro.csv', parse_dates=['timestamp'])\n",
    "ids = test.id"
   ]
  },
  {
   "cell_type": "code",
   "execution_count": 14,
   "metadata": {
    "collapsed": true
   },
   "outputs": [],
   "source": [
    "# Add month-year\n",
    "month_year = (train.timestamp.dt.month + train.timestamp.dt.year * 100)\n",
    "month_year_cnt_map = month_year.value_counts().to_dict()\n",
    "train['month_year_cnt'] = month_year.map(month_year_cnt_map)\n",
    "\n",
    "month_year = (test.timestamp.dt.month + test.timestamp.dt.year * 100)\n",
    "month_year_cnt_map = month_year.value_counts().to_dict()\n",
    "test['month_year_cnt'] = month_year.map(month_year_cnt_map)\n",
    "\n",
    "# Add week-year count\n",
    "week_year = (train.timestamp.dt.weekofyear + train.timestamp.dt.year * 100)\n",
    "week_year_cnt_map = week_year.value_counts().to_dict()\n",
    "train['week_year_cnt'] = week_year.map(week_year_cnt_map)\n",
    "\n",
    "week_year = (test.timestamp.dt.weekofyear + test.timestamp.dt.year * 100)\n",
    "week_year_cnt_map = week_year.value_counts().to_dict()\n",
    "test['week_year_cnt'] = week_year.map(week_year_cnt_map)\n",
    "\n",
    "# Add month and day-of-week\n",
    "train['month'] = train.timestamp.dt.month\n",
    "train['dow'] = train.timestamp.dt.dayofweek\n",
    "\n",
    "test['month'] = test.timestamp.dt.month\n",
    "test['dow'] = test.timestamp.dt.dayofweek\n",
    "\n",
    "# Other feature engineering\n",
    "train['rel_floor'] = train['floor'] / train['max_floor'].astype(float)\n",
    "train['rel_kitch_sq'] = train['kitch_sq'] / train['full_sq'].astype(float)\n",
    "\n",
    "test['rel_floor'] = test['floor'] / test['max_floor'].astype(float)\n",
    "test['rel_kitch_sq'] = test['kitch_sq'] / test['full_sq'].astype(float)\n",
    "\n",
    "train.apartment_name=train.sub_area + train['metro_km_avto'].astype(str)\n",
    "test.apartment_name=test.sub_area + train['metro_km_avto'].astype(str)"
   ]
  },
  {
   "cell_type": "code",
   "execution_count": 15,
   "metadata": {},
   "outputs": [],
   "source": [
    "price = train.price_doc.values\n",
    "train = train.drop(['price_doc', 'id', 'timestamp'], axis=1)\n",
    "for f in train.columns.tolist():\n",
    "    if (train[f].dtype=='object') or (train[f].dtype=='datetime64[ns]'):\n",
    "        lbl = preprocessing.LabelEncoder()\n",
    "        lbl.fit(list(train[f].values) )\n",
    "        train[f] = lbl.transform(list(train[f].values))"
   ]
  },
  {
   "cell_type": "code",
   "execution_count": 16,
   "metadata": {},
   "outputs": [],
   "source": [
    "test = test.drop(['id','timestamp'], axis=1)\n",
    "for f in test.columns.tolist():\n",
    "    if (test[f].dtype=='object') or (test[f].dtype=='datetime64[ns]'):\n",
    "        lbl = preprocessing.LabelEncoder()\n",
    "        lbl.fit(list(test[f].values) )\n",
    "        test[f] = lbl.transform(list(test[f].values))"
   ]
  },
  {
   "cell_type": "code",
   "execution_count": 17,
   "metadata": {
    "collapsed": true
   },
   "outputs": [],
   "source": [
    "def rmsle(preds, dtrain):\n",
    "    labels = dtrain.get_label()\n",
    "    assert len(preds) == len(labels)\n",
    "    labels = labels.tolist()\n",
    "    preds = preds.tolist()\n",
    "    terms_to_sum = [(math.log(labels[i] + 1) - math.log(max(0, preds[i]) + 1)) ** 2.0 for i, pred in enumerate(labels)]\n",
    "    return 'rmsle', (sum(terms_to_sum) * (1.0 / len(preds))) ** 0.5"
   ]
  },
  {
   "cell_type": "code",
   "execution_count": 18,
   "metadata": {
    "collapsed": true
   },
   "outputs": [],
   "source": [
    "def rmsle_score(preds, y_test):\n",
    "    labels = y_test.tolist()\n",
    "    preds = preds.tolist()\n",
    "    terms_to_sum = [(math.log(labels[i] + 1) - math.log(max(0, preds[i]) + 1)) ** 2.0 for i, pred in enumerate(labels)]\n",
    "    return (sum(terms_to_sum) * (1.0 / len(preds))) ** 0.5"
   ]
  },
  {
   "cell_type": "code",
   "execution_count": 19,
   "metadata": {
    "collapsed": true
   },
   "outputs": [],
   "source": [
    "def score(params):\n",
    "    print (\"Training with params : \")\n",
    "    print (params)\n",
    "    num_round = int(params['n_estimators'])\n",
    "    del params['n_estimators']\n",
    "    dtrain = xgb.DMatrix(X_train, label=y_train)\n",
    "    dvalid = xgb.DMatrix(X_test, label=y_test)\n",
    "    # watchlist = [(dvalid, 'eval'), (dtrain, 'train')]\n",
    "    model = xgb.train(params, dtrain, num_round)\n",
    "    predictions = model.predict(dvalid)\n",
    "    score =   rmsle_score(predictions, y_test) \n",
    "    print (\"\\tScore {0}\\n\\n\".format(score))\n",
    "    return {'loss': score, 'status': STATUS_OK}"
   ]
  },
  {
   "cell_type": "code",
   "execution_count": 20,
   "metadata": {
    "collapsed": true
   },
   "outputs": [],
   "source": [
    "def optimize(trials):\n",
    "    space = {\n",
    "             'n_estimators' : hp.quniform('n_estimators', 100, 1500, 1),\n",
    "             'eta' : hp.quniform('eta', 0.025, 0.5, 0.025),\n",
    "             'max_depth' : hp.choice('max_depth', np.arange(1, 13, dtype=int)),\n",
    "             'min_child_weight' : hp.quniform('min_child_weight', 1, 6, 1), \n",
    "             'subsample' : hp.quniform('subsample', 0.5, 1, 0.05),\n",
    "             'alpha' : hp.quniform('alpha', 0, 1, 0.05),\n",
    "             'gamma' : hp.quniform('gamma', 0.5, 1, 0.05),\n",
    "             'colsample_bytree' : hp.quniform('colsample_bytree', 0.5, 1, 0.05),\n",
    "             'eval_metric': 'rmse',\n",
    "             'objective': 'reg:linear',\n",
    "             'nthread' : 6,\n",
    "             'silent' : 1\n",
    "             }\n",
    "\n",
    "    best = fmin(score, space, algo=tpe.suggest, trials=trials, max_evals= 5)  # increase max_evals\n",
    "    print (best)"
   ]
  },
  {
   "cell_type": "code",
   "execution_count": 21,
   "metadata": {},
   "outputs": [
    {
     "name": "stdout",
     "output_type": "stream",
     "text": [
      "Splitting data into train and valid ...\n",
      "\n",
      "\n",
      "(24376, 295) (6095, 295) (24376,) (6095,)\n"
     ]
    }
   ],
   "source": [
    "X, y = train, price\n",
    "print (\"Splitting data into train and valid ...\\n\\n\")\n",
    "X_train, X_test, y_train, y_test = train_test_split(\n",
    "    X, y, test_size=0.2, random_state=1234)\n",
    "print (X_train.shape, X_test.shape, y_train.shape, y_test.shape )"
   ]
  },
  {
   "cell_type": "code",
   "execution_count": 22,
   "metadata": {
    "collapsed": true
   },
   "outputs": [],
   "source": [
    "#Trials object where the history of search will be stored\n",
    "trials = Trials()"
   ]
  },
  {
   "cell_type": "code",
   "execution_count": 23,
   "metadata": {},
   "outputs": [
    {
     "name": "stdout",
     "output_type": "stream",
     "text": [
      "Training with params : \n",
      "{'objective': 'reg:linear', 'n_estimators': 1092.0, 'silent': 1, 'gamma': 0.6000000000000001, 'min_child_weight': 4.0, 'nthread': 6, 'max_depth': 12, 'eval_metric': 'rmse', 'subsample': 0.5, 'colsample_bytree': 0.55, 'eta': 0.125, 'alpha': 0.2}\n",
      "\tScore 0.5192495098073925\n",
      "\n",
      "\n",
      "Training with params : \n",
      "{'objective': 'reg:linear', 'n_estimators': 1240.0, 'silent': 1, 'gamma': 0.65, 'min_child_weight': 3.0, 'nthread': 6, 'max_depth': 11, 'eval_metric': 'rmse', 'subsample': 0.75, 'colsample_bytree': 0.8500000000000001, 'eta': 0.05, 'alpha': 0.25}\n",
      "\tScore 0.4754281821883944\n",
      "\n",
      "\n",
      "Training with params : \n",
      "{'objective': 'reg:linear', 'n_estimators': 893.0, 'silent': 1, 'gamma': 0.9500000000000001, 'min_child_weight': 3.0, 'nthread': 6, 'max_depth': 6, 'eval_metric': 'rmse', 'subsample': 0.8500000000000001, 'colsample_bytree': 0.5, 'eta': 0.1, 'alpha': 0.75}\n",
      "\tScore 0.5114699333518677\n",
      "\n",
      "\n",
      "Training with params : \n",
      "{'objective': 'reg:linear', 'n_estimators': 1379.0, 'silent': 1, 'gamma': 0.9500000000000001, 'min_child_weight': 6.0, 'nthread': 6, 'max_depth': 5, 'eval_metric': 'rmse', 'subsample': 0.6000000000000001, 'colsample_bytree': 0.75, 'eta': 0.375, 'alpha': 0.9500000000000001}\n",
      "\tScore 0.8998651313533504\n",
      "\n",
      "\n",
      "Training with params : \n",
      "{'objective': 'reg:linear', 'n_estimators': 589.0, 'silent': 1, 'gamma': 0.8, 'min_child_weight': 4.0, 'nthread': 6, 'max_depth': 5, 'eval_metric': 'rmse', 'subsample': 0.6000000000000001, 'colsample_bytree': 0.55, 'eta': 0.07500000000000001, 'alpha': 0.45}\n",
      "\tScore 0.4753981866893006\n",
      "\n",
      "\n",
      "{'gamma': 0.8, 'max_depth': 4, 'eta': 0.07500000000000001, 'n_estimators': 589.0, 'subsample': 0.6000000000000001, 'colsample_bytree': 0.55, 'min_child_weight': 4.0, 'alpha': 0.45}\n"
     ]
    }
   ],
   "source": [
    "optimize(trials)"
   ]
  },
  {
   "cell_type": "code",
   "execution_count": 1,
   "metadata": {},
   "outputs": [],
   "source": [
    "# results = trials.best_trial['misc']['vals']\n",
    "# results"
   ]
  },
  {
   "cell_type": "code",
   "execution_count": 24,
   "metadata": {},
   "outputs": [],
   "source": [
    "params = {'objective': 'reg:linear',\n",
    "          'booster': 'gbtree',\n",
    "          'nthread': 4,\n",
    "          'silent': 1,\n",
    "          'alpha': 0.45,\n",
    "          'gamma' : 0.5, \n",
    "          'min_child_weight': 5.0,\n",
    "          'max_depth': 10,\n",
    "          'subsample': 0.7000000000000001,\n",
    "          \"colsample_bytree\": 0.9500000000000001,\n",
    "          'eta': 0.025,\n",
    "          'verbose_eval': True,\n",
    "          'seed': 0}"
   ]
  },
  {
   "cell_type": "code",
   "execution_count": 25,
   "metadata": {},
   "outputs": [],
   "source": [
    "dtrain = xgb.DMatrix(X, label= y )\n",
    "dtest = xgb.DMatrix(test)"
   ]
  },
  {
   "cell_type": "code",
   "execution_count": 26,
   "metadata": {},
   "outputs": [
    {
     "data": {
      "text/plain": [
       "{'alpha': 0.45,\n",
       " 'booster': 'gbtree',\n",
       " 'colsample_bytree': 0.9500000000000001,\n",
       " 'eta': 0.025,\n",
       " 'gamma': 0.5,\n",
       " 'max_depth': 10,\n",
       " 'min_child_weight': 5.0,\n",
       " 'nthread': 4,\n",
       " 'objective': 'reg:linear',\n",
       " 'seed': 0,\n",
       " 'silent': 1,\n",
       " 'subsample': 0.7000000000000001,\n",
       " 'verbose_eval': True}"
      ]
     },
     "execution_count": 26,
     "metadata": {},
     "output_type": "execute_result"
    }
   ],
   "source": [
    "params"
   ]
  },
  {
   "cell_type": "code",
   "execution_count": 27,
   "metadata": {},
   "outputs": [
    {
     "name": "stdout",
     "output_type": "stream",
     "text": [
      "[0]\ttrain-rmsle:3.66617\ttest-rmsle:3.67725\n",
      "[50]\ttrain-rmsle:0.475461\ttest-rmsle:0.529983\n",
      "[100]\ttrain-rmsle:0.380381\ttest-rmsle:0.463881\n",
      "[150]\ttrain-rmsle:0.366635\ttest-rmsle:0.465217\n"
     ]
    },
    {
     "data": {
      "text/plain": [
       "<matplotlib.axes._subplots.AxesSubplot at 0x2639f861668>"
      ]
     },
     "execution_count": 27,
     "metadata": {},
     "output_type": "execute_result"
    },
    {
     "data": {
      "image/png": "[encoded data removed]",
      "text/plain": [
       "<matplotlib.figure.Figure at 0x2639f1849b0>"
      ]
     },
     "metadata": {},
     "output_type": "display_data"
    }
   ],
   "source": [
    "num_rounds = 1000\n",
    "cv_output = xgb.cv(params, dtrain, num_boost_round=num_rounds, feval=rmsle, early_stopping_rounds=50, verbose_eval=50, show_stdv=False)\n",
    "cv_output[['train-rmsle-mean', 'test-rmsle-mean']].plot()"
   ]
  },
  {
   "cell_type": "code",
   "execution_count": 29,
   "metadata": {},
   "outputs": [
    {
     "name": "stdout",
     "output_type": "stream",
     "text": [
      "[0]\tdtrain-rmsle:3.66156\n",
      "[20]\tdtrain-rmsle:0.922622\n",
      "[40]\tdtrain-rmsle:0.556628\n",
      "[60]\tdtrain-rmsle:0.443072\n",
      "[80]\tdtrain-rmsle:0.407084\n",
      "[100]\tdtrain-rmsle:0.395044\n"
     ]
    },
    {
     "data": {
      "text/plain": [
       "49.23134469985962"
      ]
     },
     "execution_count": 29,
     "metadata": {},
     "output_type": "execute_result"
    }
   ],
   "source": [
    "num_rounds = len(cv_output)\n",
    "watchlist = [(dtrain, 'dtrain')]\n",
    "t1= time.time()\n",
    "clf_xgb_main = xgb.train(dtrain=dtrain, params=params, feval= rmsle, num_boost_round=num_rounds, evals=watchlist, verbose_eval=20)\n",
    "preds_price = clf_xgb_main.predict(dtest)\n",
    "time.time() - t1"
   ]
  },
  {
   "cell_type": "code",
   "execution_count": 31,
   "metadata": {},
   "outputs": [],
   "source": [
    "# preds_price = np.zeros(len(test))\n",
    "# count = 1\n",
    "# for s in np.random.randint(0, 1000000, size=50):\n",
    "#     params['seed'] = s\n",
    "#     t1= time.time()\n",
    "#     clf_xgb_main = xgb.train(dtrain=dtrain, params=params, feval= rmsle, num_boost_round=num_rounds, \\\n",
    "#                              evals=watchlist,verbose_eval= 50)\n",
    "#     preds_price += clf_xgb_main.predict(dtest)\n",
    "#     print (count, time.time() - t1)\n",
    "#     count = count +1\n",
    "# preds_price = preds_price/50"
   ]
  },
  {
   "cell_type": "code",
   "execution_count": 32,
   "metadata": {},
   "outputs": [],
   "source": [
    "def write_submission(preds, output):\n",
    "    sample = pd.read_csv('sample_submission.csv')\n",
    "    preds = pd.DataFrame(\n",
    "        preds, index=sample.id.values, columns=sample.columns[1:])\n",
    "    preds.to_csv(output, index_label='id')"
   ]
  },
  {
   "cell_type": "code",
   "execution_count": 33,
   "metadata": {},
   "outputs": [
    {
     "data": {
      "text/html": [
       "<div>\n",
       "<style>\n",
       "    .dataframe thead tr:only-child th {\n",
       "        text-align: right;\n",
       "    }\n",
       "\n",
       "    .dataframe thead th {\n",
       "        text-align: left;\n",
       "    }\n",
       "\n",
       "    .dataframe tbody tr th {\n",
       "        vertical-align: top;\n",
       "    }\n",
       "</style>\n",
       "<table border=\"1\" class=\"dataframe\">\n",
       "  <thead>\n",
       "    <tr style=\"text-align: right;\">\n",
       "      <th></th>\n",
       "      <th>id</th>\n",
       "      <th>price_doc</th>\n",
       "    </tr>\n",
       "  </thead>\n",
       "  <tbody>\n",
       "    <tr>\n",
       "      <th>0</th>\n",
       "      <td>30474</td>\n",
       "      <td>61809132.5</td>\n",
       "    </tr>\n",
       "    <tr>\n",
       "      <th>1</th>\n",
       "      <td>30475</td>\n",
       "      <td>94813480.5</td>\n",
       "    </tr>\n",
       "    <tr>\n",
       "      <th>2</th>\n",
       "      <td>30476</td>\n",
       "      <td>62717610.5</td>\n",
       "    </tr>\n",
       "    <tr>\n",
       "      <th>3</th>\n",
       "      <td>30477</td>\n",
       "      <td>66335019.0</td>\n",
       "    </tr>\n",
       "    <tr>\n",
       "      <th>4</th>\n",
       "      <td>30478</td>\n",
       "      <td>57737479.5</td>\n",
       "    </tr>\n",
       "  </tbody>\n",
       "</table>\n",
       "</div>"
      ],
      "text/plain": [
       "      id   price_doc\n",
       "0  30474  61809132.5\n",
       "1  30475  94813480.5\n",
       "2  30476  62717610.5\n",
       "3  30477  66335019.0\n",
       "4  30478  57737479.5"
      ]
     },
     "execution_count": 33,
     "metadata": {},
     "output_type": "execute_result"
    }
   ],
   "source": [
    "test= pd.read_csv('test.csv')\n",
    "submission = test[['id']] \n",
    "submission['price_doc'] = preds_price\n",
    "submission.head()"
   ]
  },
  {
   "cell_type": "code",
   "execution_count": 35,
   "metadata": {},
   "outputs": [],
   "source": [
    "sub_file = 'sberbank.csv'\n",
    "submission.to_csv(sub_file, index=False)"
   ]
  },
  {
   "cell_type": "code",
   "execution_count": 36,
   "metadata": {},
   "outputs": [
    {
     "data": {
      "text/plain": [
       "<matplotlib.figure.Figure at 0x2639f178390>"
      ]
     },
     "metadata": {},
     "output_type": "display_data"
    },
    {
     "data": {
      "image/png": "[encoded data removed]",
      "text/plain": [
       "<matplotlib.figure.Figure at 0x2639fcaf978>"
      ]
     },
     "metadata": {},
     "output_type": "display_data"
    },
    {
     "data": {
      "image/png": "[encoded data removed]",
      "text/plain": [
       "<matplotlib.figure.Figure at 0x2639fd2b128>"
      ]
     },
     "metadata": {},
     "output_type": "display_data"
    }
   ],
   "source": [
    "def create_feature_map(features):\n",
    "    outfile = open('xgb.fmap', 'w')\n",
    "    i = 0\n",
    "    for feat in features:\n",
    "        outfile.write('{0}\\t{1}\\tq\\n'.format(i, feat))\n",
    "        i = i + 1\n",
    "\n",
    "    outfile.close()\n",
    "\n",
    "create_feature_map(train.columns.values)\n",
    "\n",
    "importance = clf_xgb_main.get_fscore(fmap='xgb.fmap')\n",
    "importance = sorted(importance.items(), key=operator.itemgetter(1))\n",
    "\n",
    "df = pd.DataFrame(importance[:50], columns=['feature', 'fscore'])\n",
    "df['fscore'] = df['fscore'] / df['fscore'].sum()\n",
    " \n",
    "plt.figure()\n",
    "df.plot()\n",
    "df.plot(kind='barh', x='feature', y='fscore', legend=False, figsize=(10, 10))\n",
    "plt.title('XGBoost Feature Importance')\n",
    "plt.xlabel('relative importance')\n",
    "plt.gcf().savefig('feature_importance_xgb.png')"
   ]
  }
 ],
 "metadata": {
  "anaconda-cloud": {},
  "kernelspec": {
   "display_name": "Python [conda root]",
   "language": "python",
   "name": "conda-root-py"
  },
  "language_info": {
   "codemirror_mode": {
    "name": "ipython",
    "version": 3
   },
   "file_extension": ".py",
   "mimetype": "text/x-python",
   "name": "python",
   "nbconvert_exporter": "python",
   "pygments_lexer": "ipython3",
   "version": "3.5.3"
  }
 },
 "nbformat": 4,
 "nbformat_minor": 1
}
